{
 "cells": [
  {
   "cell_type": "markdown",
   "id": "0a7db1b2",
   "metadata": {},
   "source": [
    "# Historical Weather Data by ZIP Code (Meteostat)\n",
    "\n",
    "This notebook retrieves daily historical weather data for US ZIP codes using the Meteostat API. It supports bulk fetching for the past 2 years and incremental updates for recent days. Data is stored at the ZIP code level with basic weather columns."
   ]
  },
  {
   "cell_type": "markdown",
   "id": "13f860a3",
   "metadata": {},
   "source": [
    "## Configuration\n",
    "Set your parameters here. You can control the ZIP codes, date ranges, and whether to refetch bulk data."
   ]
  },
  {
   "cell_type": "code",
   "execution_count": 124,
   "id": "15c70eb0",
   "metadata": {},
   "outputs": [],
   "source": [
    "import os\n",
    "import pandas as pd\n",
    "import numpy as np\n",
    "from datetime import datetime, timedelta\n",
    "import pgeocode\n",
    "from meteostat import Point, Daily\n",
    "\n",
    "# --- CONFIGURATION FLAGS ---\n",
    "ZIP_CODES = [\"94105\", \"10001\", \"60601\", \"90210\", \"77002\"]  # Example ZIP codes\n",
    "COUNTRY = \"US\"\n",
    "BULK_YEARS = 2  # How many years back for bulk fetch\n",
    "REFETCH_BULK = False  # Set True to force refetch of bulk data\n",
    "BULK_DATA_FILE = \"bulk_weather_by_zip.csv\"\n",
    "N_DAYS = 7  # How many recent days to fetch with incremental API"
   ]
  },
  {
   "cell_type": "markdown",
   "id": "f8cb9e98",
   "metadata": {},
   "source": [
    "## Convert ZIP Codes to Coordinates"
   ]
  },
  {
   "cell_type": "code",
   "execution_count": 125,
   "id": "f3a3a315",
   "metadata": {},
   "outputs": [
    {
     "data": {
      "application/vnd.microsoft.datawrangler.viewer.v0+json": {
       "columns": [
        {
         "name": "index",
         "rawType": "int64",
         "type": "integer"
        },
        {
         "name": "zip_code",
         "rawType": "object",
         "type": "string"
        },
        {
         "name": "latitude",
         "rawType": "float64",
         "type": "float"
        },
        {
         "name": "longitude",
         "rawType": "float64",
         "type": "float"
        }
       ],
       "ref": "a6d29f6a-4d70-4974-9c5f-3adfb382e275",
       "rows": [
        [
         "0",
         "94105",
         "37.7864",
         "-122.3892"
        ],
        [
         "1",
         "10001",
         "40.7484",
         "-73.9967"
        ],
        [
         "2",
         "60601",
         "41.8858",
         "-87.6181"
        ],
        [
         "3",
         "90210",
         "34.0901",
         "-118.4065"
        ],
        [
         "4",
         "77002",
         "29.7594",
         "-95.3594"
        ]
       ],
       "shape": {
        "columns": 3,
        "rows": 5
       }
      },
      "text/html": [
       "<div>\n",
       "<style scoped>\n",
       "    .dataframe tbody tr th:only-of-type {\n",
       "        vertical-align: middle;\n",
       "    }\n",
       "\n",
       "    .dataframe tbody tr th {\n",
       "        vertical-align: top;\n",
       "    }\n",
       "\n",
       "    .dataframe thead th {\n",
       "        text-align: right;\n",
       "    }\n",
       "</style>\n",
       "<table border=\"1\" class=\"dataframe\">\n",
       "  <thead>\n",
       "    <tr style=\"text-align: right;\">\n",
       "      <th></th>\n",
       "      <th>zip_code</th>\n",
       "      <th>latitude</th>\n",
       "      <th>longitude</th>\n",
       "    </tr>\n",
       "  </thead>\n",
       "  <tbody>\n",
       "    <tr>\n",
       "      <th>0</th>\n",
       "      <td>94105</td>\n",
       "      <td>37.7864</td>\n",
       "      <td>-122.3892</td>\n",
       "    </tr>\n",
       "    <tr>\n",
       "      <th>1</th>\n",
       "      <td>10001</td>\n",
       "      <td>40.7484</td>\n",
       "      <td>-73.9967</td>\n",
       "    </tr>\n",
       "    <tr>\n",
       "      <th>2</th>\n",
       "      <td>60601</td>\n",
       "      <td>41.8858</td>\n",
       "      <td>-87.6181</td>\n",
       "    </tr>\n",
       "    <tr>\n",
       "      <th>3</th>\n",
       "      <td>90210</td>\n",
       "      <td>34.0901</td>\n",
       "      <td>-118.4065</td>\n",
       "    </tr>\n",
       "    <tr>\n",
       "      <th>4</th>\n",
       "      <td>77002</td>\n",
       "      <td>29.7594</td>\n",
       "      <td>-95.3594</td>\n",
       "    </tr>\n",
       "  </tbody>\n",
       "</table>\n",
       "</div>"
      ],
      "text/plain": [
       "  zip_code  latitude  longitude\n",
       "0    94105   37.7864  -122.3892\n",
       "1    10001   40.7484   -73.9967\n",
       "2    60601   41.8858   -87.6181\n",
       "3    90210   34.0901  -118.4065\n",
       "4    77002   29.7594   -95.3594"
      ]
     },
     "execution_count": 125,
     "metadata": {},
     "output_type": "execute_result"
    }
   ],
   "source": [
    "def zip_to_point(zip_codes, country=COUNTRY):\n",
    "    nomi = pgeocode.Nominatim(country)\n",
    "    df = nomi.query_postal_code(zip_codes)\n",
    "    df = df[['postal_code', 'latitude', 'longitude']].rename(columns={'postal_code': 'zip_code'})\n",
    "    df = df.dropna(subset=['latitude', 'longitude'])\n",
    "    df['zip_code'] = df['zip_code'].astype(str)\n",
    "    return df\n",
    "\n",
    "zip_df = zip_to_point(ZIP_CODES)\n",
    "zip_df"
   ]
  },
  {
   "cell_type": "markdown",
   "id": "b3cd6dcf",
   "metadata": {},
   "source": [
    "## Bulk Fetch: Past 2 Years Daily Weather by ZIP Code"
   ]
  },
  {
   "cell_type": "code",
   "execution_count": 126,
   "id": "9ee8ce59",
   "metadata": {},
   "outputs": [
    {
     "name": "stdout",
     "output_type": "stream",
     "text": [
      "Loading cached bulk data from bulk_weather_by_zip.csv\n"
     ]
    },
    {
     "data": {
      "application/vnd.microsoft.datawrangler.viewer.v0+json": {
       "columns": [
        {
         "name": "index",
         "rawType": "int64",
         "type": "integer"
        },
        {
         "name": "zip_code",
         "rawType": "int64",
         "type": "integer"
        },
        {
         "name": "time",
         "rawType": "datetime64[ns]",
         "type": "datetime"
        },
        {
         "name": "tavg",
         "rawType": "float64",
         "type": "float"
        },
        {
         "name": "tmin",
         "rawType": "float64",
         "type": "float"
        },
        {
         "name": "tmax",
         "rawType": "float64",
         "type": "float"
        },
        {
         "name": "prcp",
         "rawType": "float64",
         "type": "float"
        },
        {
         "name": "snow",
         "rawType": "float64",
         "type": "float"
        },
        {
         "name": "wspd",
         "rawType": "float64",
         "type": "float"
        }
       ],
       "ref": "13df5e97-d0c4-4cd7-b895-629c927e0280",
       "rows": [
        [
         "0",
         "94105",
         "2023-05-22 00:00:00",
         "15.0",
         "11.7",
         "21.1",
         "0.0",
         null,
         "15.1"
        ],
        [
         "1",
         "94105",
         "2023-05-23 00:00:00",
         "14.7",
         "12.2",
         "19.4",
         "0.0",
         null,
         "22.3"
        ],
        [
         "2",
         "94105",
         "2023-05-24 00:00:00",
         "13.9",
         "11.7",
         "18.3",
         "0.0",
         null,
         "18.4"
        ],
        [
         "3",
         "94105",
         "2023-05-25 00:00:00",
         "14.1",
         "12.2",
         "18.3",
         "0.0",
         null,
         "20.2"
        ],
        [
         "4",
         "94105",
         "2023-05-26 00:00:00",
         "14.4",
         "11.7",
         "18.3",
         "0.0",
         null,
         "19.4"
        ]
       ],
       "shape": {
        "columns": 8,
        "rows": 5
       }
      },
      "text/html": [
       "<div>\n",
       "<style scoped>\n",
       "    .dataframe tbody tr th:only-of-type {\n",
       "        vertical-align: middle;\n",
       "    }\n",
       "\n",
       "    .dataframe tbody tr th {\n",
       "        vertical-align: top;\n",
       "    }\n",
       "\n",
       "    .dataframe thead th {\n",
       "        text-align: right;\n",
       "    }\n",
       "</style>\n",
       "<table border=\"1\" class=\"dataframe\">\n",
       "  <thead>\n",
       "    <tr style=\"text-align: right;\">\n",
       "      <th></th>\n",
       "      <th>zip_code</th>\n",
       "      <th>time</th>\n",
       "      <th>tavg</th>\n",
       "      <th>tmin</th>\n",
       "      <th>tmax</th>\n",
       "      <th>prcp</th>\n",
       "      <th>snow</th>\n",
       "      <th>wspd</th>\n",
       "    </tr>\n",
       "  </thead>\n",
       "  <tbody>\n",
       "    <tr>\n",
       "      <th>0</th>\n",
       "      <td>94105</td>\n",
       "      <td>2023-05-22</td>\n",
       "      <td>15.0</td>\n",
       "      <td>11.7</td>\n",
       "      <td>21.1</td>\n",
       "      <td>0.0</td>\n",
       "      <td>NaN</td>\n",
       "      <td>15.1</td>\n",
       "    </tr>\n",
       "    <tr>\n",
       "      <th>1</th>\n",
       "      <td>94105</td>\n",
       "      <td>2023-05-23</td>\n",
       "      <td>14.7</td>\n",
       "      <td>12.2</td>\n",
       "      <td>19.4</td>\n",
       "      <td>0.0</td>\n",
       "      <td>NaN</td>\n",
       "      <td>22.3</td>\n",
       "    </tr>\n",
       "    <tr>\n",
       "      <th>2</th>\n",
       "      <td>94105</td>\n",
       "      <td>2023-05-24</td>\n",
       "      <td>13.9</td>\n",
       "      <td>11.7</td>\n",
       "      <td>18.3</td>\n",
       "      <td>0.0</td>\n",
       "      <td>NaN</td>\n",
       "      <td>18.4</td>\n",
       "    </tr>\n",
       "    <tr>\n",
       "      <th>3</th>\n",
       "      <td>94105</td>\n",
       "      <td>2023-05-25</td>\n",
       "      <td>14.1</td>\n",
       "      <td>12.2</td>\n",
       "      <td>18.3</td>\n",
       "      <td>0.0</td>\n",
       "      <td>NaN</td>\n",
       "      <td>20.2</td>\n",
       "    </tr>\n",
       "    <tr>\n",
       "      <th>4</th>\n",
       "      <td>94105</td>\n",
       "      <td>2023-05-26</td>\n",
       "      <td>14.4</td>\n",
       "      <td>11.7</td>\n",
       "      <td>18.3</td>\n",
       "      <td>0.0</td>\n",
       "      <td>NaN</td>\n",
       "      <td>19.4</td>\n",
       "    </tr>\n",
       "  </tbody>\n",
       "</table>\n",
       "</div>"
      ],
      "text/plain": [
       "   zip_code       time  tavg  tmin  tmax  prcp  snow  wspd\n",
       "0     94105 2023-05-22  15.0  11.7  21.1   0.0   NaN  15.1\n",
       "1     94105 2023-05-23  14.7  12.2  19.4   0.0   NaN  22.3\n",
       "2     94105 2023-05-24  13.9  11.7  18.3   0.0   NaN  18.4\n",
       "3     94105 2023-05-25  14.1  12.2  18.3   0.0   NaN  20.2\n",
       "4     94105 2023-05-26  14.4  11.7  18.3   0.0   NaN  19.4"
      ]
     },
     "execution_count": 126,
     "metadata": {},
     "output_type": "execute_result"
    }
   ],
   "source": [
    "def fetch_bulk_weather(zip_df, years=2):\n",
    "    end = datetime.now().date() - timedelta(days=1)\n",
    "    start = end - timedelta(days=365*years)\n",
    "    # Ensure both start and end are datetime.date objects\n",
    "    records = []\n",
    "    for _, row in zip_df.iterrows():\n",
    "        point = Point(row['latitude'], row['longitude'])\n",
    "        # Convert start and end to datetime.datetime for Meteostat compatibility\n",
    "        start_dt = datetime.combine(start, datetime.min.time())\n",
    "        end_dt = datetime.combine(end, datetime.min.time())\n",
    "        data = Daily(point, start_dt, end_dt).fetch()\n",
    "        data = data.reset_index()\n",
    "        data['zip_code'] = row['zip_code']\n",
    "        # Keep only basic columns\n",
    "        data = data[['zip_code', 'time', 'tavg', 'tmin', 'tmax', 'prcp', 'snow', 'wspd']]\n",
    "        records.append(data)\n",
    "    if records:\n",
    "        return pd.concat(records, ignore_index=True)\n",
    "    else:\n",
    "        return pd.DataFrame()\n",
    "\n",
    "if REFETCH_BULK or not os.path.exists(BULK_DATA_FILE):\n",
    "    print(\"Fetching bulk weather data for all ZIP codes...\")\n",
    "    bulk_df = fetch_bulk_weather(zip_df, years=BULK_YEARS)\n",
    "    bulk_df.to_csv(BULK_DATA_FILE, index=False)\n",
    "    print(f\"Saved bulk data to {BULK_DATA_FILE}\")\n",
    "else:\n",
    "    print(f\"Loading cached bulk data from {BULK_DATA_FILE}\")\n",
    "    bulk_df = pd.read_csv(BULK_DATA_FILE, parse_dates=['time'])\n",
    "bulk_df.head()"
   ]
  },
  {
   "cell_type": "markdown",
   "id": "00365434",
   "metadata": {},
   "source": [
    "## Incremental Fetch: Most Recent N Days"
   ]
  },
  {
   "cell_type": "code",
   "execution_count": 127,
   "id": "c475f6dd",
   "metadata": {},
   "outputs": [
    {
     "data": {
      "application/vnd.microsoft.datawrangler.viewer.v0+json": {
       "columns": [
        {
         "name": "index",
         "rawType": "int64",
         "type": "integer"
        },
        {
         "name": "zip_code",
         "rawType": "object",
         "type": "string"
        },
        {
         "name": "time",
         "rawType": "datetime64[ns]",
         "type": "datetime"
        },
        {
         "name": "tavg",
         "rawType": "float64",
         "type": "float"
        },
        {
         "name": "tmin",
         "rawType": "float64",
         "type": "float"
        },
        {
         "name": "tmax",
         "rawType": "float64",
         "type": "float"
        },
        {
         "name": "prcp",
         "rawType": "float64",
         "type": "float"
        },
        {
         "name": "snow",
         "rawType": "float64",
         "type": "float"
        },
        {
         "name": "wspd",
         "rawType": "float64",
         "type": "float"
        }
       ],
       "ref": "1105dde6-42f9-46aa-b986-f515ca5aa565",
       "rows": [
        [
         "0",
         "94105",
         "2025-05-15 00:00:00",
         "15.0",
         "10.0",
         "21.1",
         "0.0",
         null,
         "15.0"
        ],
        [
         "1",
         "94105",
         "2025-05-16 00:00:00",
         "14.5",
         "11.0",
         "19.0",
         "0.0",
         null,
         "17.6"
        ],
        [
         "2",
         "94105",
         "2025-05-17 00:00:00",
         "14.6",
         "11.7",
         "18.3",
         "0.0",
         null,
         "28.6"
        ],
        [
         "3",
         "94105",
         "2025-05-18 00:00:00",
         "15.7",
         "8.9",
         "21.1",
         "0.0",
         null,
         "13.2"
        ],
        [
         "4",
         "94105",
         "2025-05-19 00:00:00",
         "16.1",
         "10.6",
         "21.7",
         "0.0",
         null,
         "14.4"
        ]
       ],
       "shape": {
        "columns": 8,
        "rows": 5
       }
      },
      "text/html": [
       "<div>\n",
       "<style scoped>\n",
       "    .dataframe tbody tr th:only-of-type {\n",
       "        vertical-align: middle;\n",
       "    }\n",
       "\n",
       "    .dataframe tbody tr th {\n",
       "        vertical-align: top;\n",
       "    }\n",
       "\n",
       "    .dataframe thead th {\n",
       "        text-align: right;\n",
       "    }\n",
       "</style>\n",
       "<table border=\"1\" class=\"dataframe\">\n",
       "  <thead>\n",
       "    <tr style=\"text-align: right;\">\n",
       "      <th></th>\n",
       "      <th>zip_code</th>\n",
       "      <th>time</th>\n",
       "      <th>tavg</th>\n",
       "      <th>tmin</th>\n",
       "      <th>tmax</th>\n",
       "      <th>prcp</th>\n",
       "      <th>snow</th>\n",
       "      <th>wspd</th>\n",
       "    </tr>\n",
       "  </thead>\n",
       "  <tbody>\n",
       "    <tr>\n",
       "      <th>0</th>\n",
       "      <td>94105</td>\n",
       "      <td>2025-05-15</td>\n",
       "      <td>15.0</td>\n",
       "      <td>10.0</td>\n",
       "      <td>21.1</td>\n",
       "      <td>0.0</td>\n",
       "      <td>NaN</td>\n",
       "      <td>15.0</td>\n",
       "    </tr>\n",
       "    <tr>\n",
       "      <th>1</th>\n",
       "      <td>94105</td>\n",
       "      <td>2025-05-16</td>\n",
       "      <td>14.5</td>\n",
       "      <td>11.0</td>\n",
       "      <td>19.0</td>\n",
       "      <td>0.0</td>\n",
       "      <td>NaN</td>\n",
       "      <td>17.6</td>\n",
       "    </tr>\n",
       "    <tr>\n",
       "      <th>2</th>\n",
       "      <td>94105</td>\n",
       "      <td>2025-05-17</td>\n",
       "      <td>14.6</td>\n",
       "      <td>11.7</td>\n",
       "      <td>18.3</td>\n",
       "      <td>0.0</td>\n",
       "      <td>NaN</td>\n",
       "      <td>28.6</td>\n",
       "    </tr>\n",
       "    <tr>\n",
       "      <th>3</th>\n",
       "      <td>94105</td>\n",
       "      <td>2025-05-18</td>\n",
       "      <td>15.7</td>\n",
       "      <td>8.9</td>\n",
       "      <td>21.1</td>\n",
       "      <td>0.0</td>\n",
       "      <td>NaN</td>\n",
       "      <td>13.2</td>\n",
       "    </tr>\n",
       "    <tr>\n",
       "      <th>4</th>\n",
       "      <td>94105</td>\n",
       "      <td>2025-05-19</td>\n",
       "      <td>16.1</td>\n",
       "      <td>10.6</td>\n",
       "      <td>21.7</td>\n",
       "      <td>0.0</td>\n",
       "      <td>NaN</td>\n",
       "      <td>14.4</td>\n",
       "    </tr>\n",
       "  </tbody>\n",
       "</table>\n",
       "</div>"
      ],
      "text/plain": [
       "  zip_code       time  tavg  tmin  tmax  prcp  snow  wspd\n",
       "0    94105 2025-05-15  15.0  10.0  21.1   0.0   NaN  15.0\n",
       "1    94105 2025-05-16  14.5  11.0  19.0   0.0   NaN  17.6\n",
       "2    94105 2025-05-17  14.6  11.7  18.3   0.0   NaN  28.6\n",
       "3    94105 2025-05-18  15.7   8.9  21.1   0.0   NaN  13.2\n",
       "4    94105 2025-05-19  16.1  10.6  21.7   0.0   NaN  14.4"
      ]
     },
     "execution_count": 127,
     "metadata": {},
     "output_type": "execute_result"
    }
   ],
   "source": [
    "def fetch_recent_weather(zip_df, n_days=7):\n",
    "    end = datetime.now().date() - timedelta(days=1)\n",
    "    start = end - timedelta(days=n_days-1)\n",
    "    records = []\n",
    "    for _, row in zip_df.iterrows():\n",
    "        point = Point(row['latitude'], row['longitude'])\n",
    "        # Convert start and end to datetime.datetime for Meteostat compatibility\n",
    "        start_dt = datetime.combine(start, datetime.min.time())\n",
    "        end_dt = datetime.combine(end, datetime.min.time())\n",
    "        data = Daily(point, start_dt, end_dt).fetch()\n",
    "        data = data.reset_index()\n",
    "        data['zip_code'] = row['zip_code']\n",
    "        data = data[['zip_code', 'time', 'tavg', 'tmin', 'tmax', 'prcp', 'snow', 'wspd']]\n",
    "        records.append(data)\n",
    "    if records:\n",
    "        return pd.concat(records, ignore_index=True)\n",
    "    else:\n",
    "        return pd.DataFrame()\n",
    "\n",
    "recent_df = fetch_recent_weather(zip_df, n_days=N_DAYS)\n",
    "recent_df.head()"
   ]
  },
  {
   "cell_type": "markdown",
   "id": "7bec230e",
   "metadata": {},
   "source": [
    "## Append New Data to Bulk Data"
   ]
  },
  {
   "cell_type": "code",
   "execution_count": 128,
   "id": "e80878ac",
   "metadata": {},
   "outputs": [
    {
     "name": "stdout",
     "output_type": "stream",
     "text": [
      "Appended new data. Full dataset now has 3690 rows.\n"
     ]
    },
    {
     "data": {
      "application/vnd.microsoft.datawrangler.viewer.v0+json": {
       "columns": [
        {
         "name": "index",
         "rawType": "int64",
         "type": "integer"
        },
        {
         "name": "zip_code",
         "rawType": "object",
         "type": "string"
        },
        {
         "name": "time",
         "rawType": "datetime64[ns]",
         "type": "datetime"
        },
        {
         "name": "tavg",
         "rawType": "float64",
         "type": "float"
        },
        {
         "name": "tmin",
         "rawType": "float64",
         "type": "float"
        },
        {
         "name": "tmax",
         "rawType": "float64",
         "type": "float"
        },
        {
         "name": "prcp",
         "rawType": "float64",
         "type": "float"
        },
        {
         "name": "snow",
         "rawType": "float64",
         "type": "float"
        },
        {
         "name": "wspd",
         "rawType": "float64",
         "type": "float"
        }
       ],
       "ref": "eb457988-b512-4ee2-92d1-48c4d6f61f31",
       "rows": [
        [
         "3657",
         "94105",
         "2025-05-17 00:00:00",
         "14.6",
         "11.7",
         "18.3",
         "0.0",
         null,
         "28.6"
        ],
        [
         "3658",
         "94105",
         "2025-05-18 00:00:00",
         "15.7",
         "8.9",
         "21.1",
         "0.0",
         null,
         "13.2"
        ],
        [
         "3659",
         "94105",
         "2025-05-19 00:00:00",
         "16.1",
         "10.6",
         "21.7",
         "0.0",
         null,
         "14.4"
        ],
        [
         "3660",
         "94105",
         "2025-05-20 00:00:00",
         "15.3",
         "11.0",
         "20.0",
         "0.0",
         null,
         "12.1"
        ],
        [
         "3661",
         "94105",
         "2025-05-21 00:00:00",
         "15.6",
         "9.0",
         "23.0",
         "0.0",
         null,
         "14.1"
        ]
       ],
       "shape": {
        "columns": 8,
        "rows": 5
       }
      },
      "text/html": [
       "<div>\n",
       "<style scoped>\n",
       "    .dataframe tbody tr th:only-of-type {\n",
       "        vertical-align: middle;\n",
       "    }\n",
       "\n",
       "    .dataframe tbody tr th {\n",
       "        vertical-align: top;\n",
       "    }\n",
       "\n",
       "    .dataframe thead th {\n",
       "        text-align: right;\n",
       "    }\n",
       "</style>\n",
       "<table border=\"1\" class=\"dataframe\">\n",
       "  <thead>\n",
       "    <tr style=\"text-align: right;\">\n",
       "      <th></th>\n",
       "      <th>zip_code</th>\n",
       "      <th>time</th>\n",
       "      <th>tavg</th>\n",
       "      <th>tmin</th>\n",
       "      <th>tmax</th>\n",
       "      <th>prcp</th>\n",
       "      <th>snow</th>\n",
       "      <th>wspd</th>\n",
       "    </tr>\n",
       "  </thead>\n",
       "  <tbody>\n",
       "    <tr>\n",
       "      <th>3657</th>\n",
       "      <td>94105</td>\n",
       "      <td>2025-05-17</td>\n",
       "      <td>14.6</td>\n",
       "      <td>11.7</td>\n",
       "      <td>18.3</td>\n",
       "      <td>0.0</td>\n",
       "      <td>NaN</td>\n",
       "      <td>28.6</td>\n",
       "    </tr>\n",
       "    <tr>\n",
       "      <th>3658</th>\n",
       "      <td>94105</td>\n",
       "      <td>2025-05-18</td>\n",
       "      <td>15.7</td>\n",
       "      <td>8.9</td>\n",
       "      <td>21.1</td>\n",
       "      <td>0.0</td>\n",
       "      <td>NaN</td>\n",
       "      <td>13.2</td>\n",
       "    </tr>\n",
       "    <tr>\n",
       "      <th>3659</th>\n",
       "      <td>94105</td>\n",
       "      <td>2025-05-19</td>\n",
       "      <td>16.1</td>\n",
       "      <td>10.6</td>\n",
       "      <td>21.7</td>\n",
       "      <td>0.0</td>\n",
       "      <td>NaN</td>\n",
       "      <td>14.4</td>\n",
       "    </tr>\n",
       "    <tr>\n",
       "      <th>3660</th>\n",
       "      <td>94105</td>\n",
       "      <td>2025-05-20</td>\n",
       "      <td>15.3</td>\n",
       "      <td>11.0</td>\n",
       "      <td>20.0</td>\n",
       "      <td>0.0</td>\n",
       "      <td>NaN</td>\n",
       "      <td>12.1</td>\n",
       "    </tr>\n",
       "    <tr>\n",
       "      <th>3661</th>\n",
       "      <td>94105</td>\n",
       "      <td>2025-05-21</td>\n",
       "      <td>15.6</td>\n",
       "      <td>9.0</td>\n",
       "      <td>23.0</td>\n",
       "      <td>0.0</td>\n",
       "      <td>NaN</td>\n",
       "      <td>14.1</td>\n",
       "    </tr>\n",
       "  </tbody>\n",
       "</table>\n",
       "</div>"
      ],
      "text/plain": [
       "     zip_code       time  tavg  tmin  tmax  prcp  snow  wspd\n",
       "3657    94105 2025-05-17  14.6  11.7  18.3   0.0   NaN  28.6\n",
       "3658    94105 2025-05-18  15.7   8.9  21.1   0.0   NaN  13.2\n",
       "3659    94105 2025-05-19  16.1  10.6  21.7   0.0   NaN  14.4\n",
       "3660    94105 2025-05-20  15.3  11.0  20.0   0.0   NaN  12.1\n",
       "3661    94105 2025-05-21  15.6   9.0  23.0   0.0   NaN  14.1"
      ]
     },
     "execution_count": 128,
     "metadata": {},
     "output_type": "execute_result"
    }
   ],
   "source": [
    "def append_new_data(bulk_df, new_df):\n",
    "    # Remove any overlap (same zip_code and date)\n",
    "    if bulk_df.empty:\n",
    "        return new_df.copy()\n",
    "    merged = pd.concat([bulk_df, new_df], ignore_index=True)\n",
    "    merged = merged.drop_duplicates(subset=['zip_code', 'time'], keep='last')\n",
    "    merged = merged.sort_values(['zip_code', 'time'])\n",
    "    return merged\n",
    "\n",
    "full_df = append_new_data(bulk_df, recent_df)\n",
    "full_df.to_csv(BULK_DATA_FILE, index=False)\n",
    "print(f\"Appended new data. Full dataset now has {len(full_df)} rows.\")\n",
    "full_df.tail()"
   ]
  },
  {
   "cell_type": "markdown",
   "id": "94764805",
   "metadata": {},
   "source": [
    "## Data Quality Diagnostics"
   ]
  },
  {
   "cell_type": "code",
   "execution_count": 129,
   "id": "04b0c711",
   "metadata": {},
   "outputs": [
    {
     "name": "stdout",
     "output_type": "stream",
     "text": [
      "Missing values by column:\n",
      "zip_code       0\n",
      "time           0\n",
      "tavg           0\n",
      "tmin           0\n",
      "tmax           0\n",
      "prcp           0\n",
      "snow        1535\n",
      "wspd           0\n",
      "dtype: int64\n",
      "\n",
      "Sample data:\n",
      "    zip_code       time  tavg  tmin  tmax  prcp  snow  wspd\n",
      "731    10001 2023-05-22  17.8  13.9  23.3   0.0   0.0   7.4\n",
      "732    10001 2023-05-23  15.8  12.8  21.0   0.0   0.0   7.7\n",
      "733    10001 2023-05-24  16.8  11.7  24.4   0.0   0.0   6.3\n",
      "734    10001 2023-05-25  15.1  10.6  19.4   0.0   0.0  12.5\n",
      "735    10001 2023-05-26  17.4  11.7  22.2   0.0   0.0   6.9\n"
     ]
    }
   ],
   "source": [
    "# Simple diagnostics\n",
    "print(\"Missing values by column:\")\n",
    "print(full_df.isnull().sum())\n",
    "print(\"\\nSample data:\")\n",
    "print(full_df.head())"
   ]
  },
  {
   "cell_type": "markdown",
   "id": "53bffbbe",
   "metadata": {},
   "source": [
    "## Save Results"
   ]
  },
  {
   "cell_type": "code",
   "execution_count": 130,
   "id": "b8b949b5",
   "metadata": {},
   "outputs": [
    {
     "name": "stdout",
     "output_type": "stream",
     "text": [
      "Saved final results to weather_by_zip_final.csv\n"
     ]
    }
   ],
   "source": [
    "# Save the final results to CSV\n",
    "full_df.to_csv(\"weather_by_zip_final.csv\", index=False)\n",
    "print(\"Saved final results to weather_by_zip_final.csv\")"
   ]
  },
  {
   "cell_type": "markdown",
   "id": "1e6b1c37",
   "metadata": {},
   "source": [
    "## Example: Analyze or Visualize Data"
   ]
  },
  {
   "cell_type": "code",
   "execution_count": null,
   "id": "8cba2102",
   "metadata": {},
   "outputs": [
    {
     "ename": "TypeError",
     "evalue": "Invalid comparison between dtype=datetime64[ns] and date",
     "output_type": "error",
     "traceback": [
      "\u001b[0;31m---------------------------------------------------------------------------\u001b[0m",
      "\u001b[0;31mInvalidComparison\u001b[0m                         Traceback (most recent call last)",
      "File \u001b[0;32m/opt/anaconda3/lib/python3.12/site-packages/pandas/core/arrays/datetimelike.py:983\u001b[0m, in \u001b[0;36mDatetimeLikeArrayMixin._cmp_method\u001b[0;34m(self, other, op)\u001b[0m\n\u001b[1;32m    982\u001b[0m \u001b[38;5;28;01mtry\u001b[39;00m:\n\u001b[0;32m--> 983\u001b[0m     other \u001b[38;5;241m=\u001b[39m \u001b[38;5;28mself\u001b[39m\u001b[38;5;241m.\u001b[39m_validate_comparison_value(other)\n\u001b[1;32m    984\u001b[0m \u001b[38;5;28;01mexcept\u001b[39;00m InvalidComparison:\n",
      "File \u001b[0;32m/opt/anaconda3/lib/python3.12/site-packages/pandas/core/arrays/datetimelike.py:542\u001b[0m, in \u001b[0;36mDatetimeLikeArrayMixin._validate_comparison_value\u001b[0;34m(self, other)\u001b[0m\n\u001b[1;32m    541\u001b[0m \u001b[38;5;28;01melif\u001b[39;00m \u001b[38;5;129;01mnot\u001b[39;00m is_list_like(other):\n\u001b[0;32m--> 542\u001b[0m     \u001b[38;5;28;01mraise\u001b[39;00m InvalidComparison(other)\n\u001b[1;32m    544\u001b[0m \u001b[38;5;28;01melif\u001b[39;00m \u001b[38;5;28mlen\u001b[39m(other) \u001b[38;5;241m!=\u001b[39m \u001b[38;5;28mlen\u001b[39m(\u001b[38;5;28mself\u001b[39m):\n",
      "\u001b[0;31mInvalidComparison\u001b[0m: 2025-04-22",
      "\nDuring handling of the above exception, another exception occurred:\n",
      "\u001b[0;31mTypeError\u001b[0m                                 Traceback (most recent call last)",
      "Cell \u001b[0;32mIn[131], line 2\u001b[0m\n\u001b[1;32m      1\u001b[0m \u001b[38;5;66;03m# Example: Average temperature by ZIP code over the last 30 days\u001b[39;00m\n\u001b[0;32m----> 2\u001b[0m recent_30 \u001b[38;5;241m=\u001b[39m full_df[full_df[\u001b[38;5;124m'\u001b[39m\u001b[38;5;124mtime\u001b[39m\u001b[38;5;124m'\u001b[39m] \u001b[38;5;241m>\u001b[39m\u001b[38;5;241m=\u001b[39m (datetime\u001b[38;5;241m.\u001b[39mnow()\u001b[38;5;241m.\u001b[39mdate() \u001b[38;5;241m-\u001b[39m timedelta(days\u001b[38;5;241m=\u001b[39m\u001b[38;5;241m30\u001b[39m))]\n\u001b[1;32m      3\u001b[0m grouped \u001b[38;5;241m=\u001b[39m recent_30\u001b[38;5;241m.\u001b[39mgroupby(\u001b[38;5;124m'\u001b[39m\u001b[38;5;124mzip_code\u001b[39m\u001b[38;5;124m'\u001b[39m)[\u001b[38;5;124m'\u001b[39m\u001b[38;5;124mtavg\u001b[39m\u001b[38;5;124m'\u001b[39m]\u001b[38;5;241m.\u001b[39mmean()\u001b[38;5;241m.\u001b[39mreset_index()\n\u001b[1;32m      4\u001b[0m \u001b[38;5;28mprint\u001b[39m(grouped)\n",
      "File \u001b[0;32m/opt/anaconda3/lib/python3.12/site-packages/pandas/core/ops/common.py:76\u001b[0m, in \u001b[0;36m_unpack_zerodim_and_defer.<locals>.new_method\u001b[0;34m(self, other)\u001b[0m\n\u001b[1;32m     72\u001b[0m             \u001b[38;5;28;01mreturn\u001b[39;00m \u001b[38;5;28mNotImplemented\u001b[39m\n\u001b[1;32m     74\u001b[0m other \u001b[38;5;241m=\u001b[39m item_from_zerodim(other)\n\u001b[0;32m---> 76\u001b[0m \u001b[38;5;28;01mreturn\u001b[39;00m method(\u001b[38;5;28mself\u001b[39m, other)\n",
      "File \u001b[0;32m/opt/anaconda3/lib/python3.12/site-packages/pandas/core/arraylike.py:60\u001b[0m, in \u001b[0;36mOpsMixin.__ge__\u001b[0;34m(self, other)\u001b[0m\n\u001b[1;32m     58\u001b[0m \u001b[38;5;129m@unpack_zerodim_and_defer\u001b[39m(\u001b[38;5;124m\"\u001b[39m\u001b[38;5;124m__ge__\u001b[39m\u001b[38;5;124m\"\u001b[39m)\n\u001b[1;32m     59\u001b[0m \u001b[38;5;28;01mdef\u001b[39;00m \u001b[38;5;21m__ge__\u001b[39m(\u001b[38;5;28mself\u001b[39m, other):\n\u001b[0;32m---> 60\u001b[0m     \u001b[38;5;28;01mreturn\u001b[39;00m \u001b[38;5;28mself\u001b[39m\u001b[38;5;241m.\u001b[39m_cmp_method(other, operator\u001b[38;5;241m.\u001b[39mge)\n",
      "File \u001b[0;32m/opt/anaconda3/lib/python3.12/site-packages/pandas/core/series.py:6119\u001b[0m, in \u001b[0;36mSeries._cmp_method\u001b[0;34m(self, other, op)\u001b[0m\n\u001b[1;32m   6116\u001b[0m lvalues \u001b[38;5;241m=\u001b[39m \u001b[38;5;28mself\u001b[39m\u001b[38;5;241m.\u001b[39m_values\n\u001b[1;32m   6117\u001b[0m rvalues \u001b[38;5;241m=\u001b[39m extract_array(other, extract_numpy\u001b[38;5;241m=\u001b[39m\u001b[38;5;28;01mTrue\u001b[39;00m, extract_range\u001b[38;5;241m=\u001b[39m\u001b[38;5;28;01mTrue\u001b[39;00m)\n\u001b[0;32m-> 6119\u001b[0m res_values \u001b[38;5;241m=\u001b[39m ops\u001b[38;5;241m.\u001b[39mcomparison_op(lvalues, rvalues, op)\n\u001b[1;32m   6121\u001b[0m \u001b[38;5;28;01mreturn\u001b[39;00m \u001b[38;5;28mself\u001b[39m\u001b[38;5;241m.\u001b[39m_construct_result(res_values, name\u001b[38;5;241m=\u001b[39mres_name)\n",
      "File \u001b[0;32m/opt/anaconda3/lib/python3.12/site-packages/pandas/core/ops/array_ops.py:330\u001b[0m, in \u001b[0;36mcomparison_op\u001b[0;34m(left, right, op)\u001b[0m\n\u001b[1;32m    321\u001b[0m         \u001b[38;5;28;01mraise\u001b[39;00m \u001b[38;5;167;01mValueError\u001b[39;00m(\n\u001b[1;32m    322\u001b[0m             \u001b[38;5;124m\"\u001b[39m\u001b[38;5;124mLengths must match to compare\u001b[39m\u001b[38;5;124m\"\u001b[39m, lvalues\u001b[38;5;241m.\u001b[39mshape, rvalues\u001b[38;5;241m.\u001b[39mshape\n\u001b[1;32m    323\u001b[0m         )\n\u001b[1;32m    325\u001b[0m \u001b[38;5;28;01mif\u001b[39;00m should_extension_dispatch(lvalues, rvalues) \u001b[38;5;129;01mor\u001b[39;00m (\n\u001b[1;32m    326\u001b[0m     (\u001b[38;5;28misinstance\u001b[39m(rvalues, (Timedelta, BaseOffset, Timestamp)) \u001b[38;5;129;01mor\u001b[39;00m right \u001b[38;5;129;01mis\u001b[39;00m NaT)\n\u001b[1;32m    327\u001b[0m     \u001b[38;5;129;01mand\u001b[39;00m lvalues\u001b[38;5;241m.\u001b[39mdtype \u001b[38;5;241m!=\u001b[39m \u001b[38;5;28mobject\u001b[39m\n\u001b[1;32m    328\u001b[0m ):\n\u001b[1;32m    329\u001b[0m     \u001b[38;5;66;03m# Call the method on lvalues\u001b[39;00m\n\u001b[0;32m--> 330\u001b[0m     res_values \u001b[38;5;241m=\u001b[39m op(lvalues, rvalues)\n\u001b[1;32m    332\u001b[0m \u001b[38;5;28;01melif\u001b[39;00m is_scalar(rvalues) \u001b[38;5;129;01mand\u001b[39;00m isna(rvalues):  \u001b[38;5;66;03m# TODO: but not pd.NA?\u001b[39;00m\n\u001b[1;32m    333\u001b[0m     \u001b[38;5;66;03m# numpy does not like comparisons vs None\u001b[39;00m\n\u001b[1;32m    334\u001b[0m     \u001b[38;5;28;01mif\u001b[39;00m op \u001b[38;5;129;01mis\u001b[39;00m operator\u001b[38;5;241m.\u001b[39mne:\n",
      "File \u001b[0;32m/opt/anaconda3/lib/python3.12/site-packages/pandas/core/ops/common.py:76\u001b[0m, in \u001b[0;36m_unpack_zerodim_and_defer.<locals>.new_method\u001b[0;34m(self, other)\u001b[0m\n\u001b[1;32m     72\u001b[0m             \u001b[38;5;28;01mreturn\u001b[39;00m \u001b[38;5;28mNotImplemented\u001b[39m\n\u001b[1;32m     74\u001b[0m other \u001b[38;5;241m=\u001b[39m item_from_zerodim(other)\n\u001b[0;32m---> 76\u001b[0m \u001b[38;5;28;01mreturn\u001b[39;00m method(\u001b[38;5;28mself\u001b[39m, other)\n",
      "File \u001b[0;32m/opt/anaconda3/lib/python3.12/site-packages/pandas/core/arraylike.py:60\u001b[0m, in \u001b[0;36mOpsMixin.__ge__\u001b[0;34m(self, other)\u001b[0m\n\u001b[1;32m     58\u001b[0m \u001b[38;5;129m@unpack_zerodim_and_defer\u001b[39m(\u001b[38;5;124m\"\u001b[39m\u001b[38;5;124m__ge__\u001b[39m\u001b[38;5;124m\"\u001b[39m)\n\u001b[1;32m     59\u001b[0m \u001b[38;5;28;01mdef\u001b[39;00m \u001b[38;5;21m__ge__\u001b[39m(\u001b[38;5;28mself\u001b[39m, other):\n\u001b[0;32m---> 60\u001b[0m     \u001b[38;5;28;01mreturn\u001b[39;00m \u001b[38;5;28mself\u001b[39m\u001b[38;5;241m.\u001b[39m_cmp_method(other, operator\u001b[38;5;241m.\u001b[39mge)\n",
      "File \u001b[0;32m/opt/anaconda3/lib/python3.12/site-packages/pandas/core/arrays/datetimelike.py:985\u001b[0m, in \u001b[0;36mDatetimeLikeArrayMixin._cmp_method\u001b[0;34m(self, other, op)\u001b[0m\n\u001b[1;32m    983\u001b[0m     other \u001b[38;5;241m=\u001b[39m \u001b[38;5;28mself\u001b[39m\u001b[38;5;241m.\u001b[39m_validate_comparison_value(other)\n\u001b[1;32m    984\u001b[0m \u001b[38;5;28;01mexcept\u001b[39;00m InvalidComparison:\n\u001b[0;32m--> 985\u001b[0m     \u001b[38;5;28;01mreturn\u001b[39;00m invalid_comparison(\u001b[38;5;28mself\u001b[39m, other, op)\n\u001b[1;32m    987\u001b[0m dtype \u001b[38;5;241m=\u001b[39m \u001b[38;5;28mgetattr\u001b[39m(other, \u001b[38;5;124m\"\u001b[39m\u001b[38;5;124mdtype\u001b[39m\u001b[38;5;124m\"\u001b[39m, \u001b[38;5;28;01mNone\u001b[39;00m)\n\u001b[1;32m    988\u001b[0m \u001b[38;5;28;01mif\u001b[39;00m is_object_dtype(dtype):\n\u001b[1;32m    989\u001b[0m     \u001b[38;5;66;03m# We have to use comp_method_OBJECT_ARRAY instead of numpy\u001b[39;00m\n\u001b[1;32m    990\u001b[0m     \u001b[38;5;66;03m#  comparison otherwise it would raise when comparing to None\u001b[39;00m\n",
      "File \u001b[0;32m/opt/anaconda3/lib/python3.12/site-packages/pandas/core/ops/invalid.py:40\u001b[0m, in \u001b[0;36minvalid_comparison\u001b[0;34m(left, right, op)\u001b[0m\n\u001b[1;32m     38\u001b[0m \u001b[38;5;28;01melse\u001b[39;00m:\n\u001b[1;32m     39\u001b[0m     typ \u001b[38;5;241m=\u001b[39m \u001b[38;5;28mtype\u001b[39m(right)\u001b[38;5;241m.\u001b[39m\u001b[38;5;18m__name__\u001b[39m\n\u001b[0;32m---> 40\u001b[0m     \u001b[38;5;28;01mraise\u001b[39;00m \u001b[38;5;167;01mTypeError\u001b[39;00m(\u001b[38;5;124mf\u001b[39m\u001b[38;5;124m\"\u001b[39m\u001b[38;5;124mInvalid comparison between dtype=\u001b[39m\u001b[38;5;132;01m{\u001b[39;00mleft\u001b[38;5;241m.\u001b[39mdtype\u001b[38;5;132;01m}\u001b[39;00m\u001b[38;5;124m and \u001b[39m\u001b[38;5;132;01m{\u001b[39;00mtyp\u001b[38;5;132;01m}\u001b[39;00m\u001b[38;5;124m\"\u001b[39m)\n\u001b[1;32m     41\u001b[0m \u001b[38;5;28;01mreturn\u001b[39;00m res_values\n",
      "\u001b[0;31mTypeError\u001b[0m: Invalid comparison between dtype=datetime64[ns] and date"
     ]
    }
   ],
   "source": [
    "# Example: Average temperature by ZIP code over the last 30 days\n",
    "cutoff = pd.Timestamp(datetime.now().date() - timedelta(days=30))\n",
    "recent_30 = full_df[full_df['time'] >= cutoff]\n",
    "grouped = recent_30.groupby('zip_code')['tavg'].mean().reset_index()\n",
    "print(grouped)"
   ]
  }
 ],
 "metadata": {
  "kernelspec": {
   "display_name": "base",
   "language": "python",
   "name": "python3"
  },
  "language_info": {
   "codemirror_mode": {
    "name": "ipython",
    "version": 3
   },
   "file_extension": ".py",
   "mimetype": "text/x-python",
   "name": "python",
   "nbconvert_exporter": "python",
   "pygments_lexer": "ipython3",
   "version": "3.12.9"
  }
 },
 "nbformat": 4,
 "nbformat_minor": 5
}
